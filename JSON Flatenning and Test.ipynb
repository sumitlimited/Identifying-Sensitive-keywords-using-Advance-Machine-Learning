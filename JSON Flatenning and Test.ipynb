{
  "cells": [
    {
      "cell_type": "code",
      "source": [
        "import pandas as pd\n",
        "import numpy as np\n",
        "#import warnings\n",
        "#warnings.filterwarnings('ignore')\n",
        "%config InlineBackend.figure_format = 'retina'\n",
        "%config Completer.use_jedi = False # this to force autocompletion"
      ],
      "metadata": {
        "id": "Vd4A_Temc5CE"
      },
      "id": "Vd4A_Temc5CE",
      "execution_count": null,
      "outputs": []
    },
    {
      "cell_type": "code",
      "source": [
        "df = pd.read_csv('Labelled_Data.csv')\n",
        "df = df.reset_index(drop=True)\n",
        "df = df[df['Data'].notna()]\n",
        "df"
      ],
      "metadata": {
        "colab": {
          "base_uri": "https://localhost:8080/",
          "height": 424
        },
        "id": "0mT4-fkcc6sr",
        "outputId": "526b5686-dfc5-4928-f5a1-f4f2c6671d32"
      },
      "id": "0mT4-fkcc6sr",
      "execution_count": null,
      "outputs": [
        {
          "output_type": "execute_result",
          "data": {
            "text/plain": [
              "       Unnamed: 0                             Data Label\n",
              "0               1          $candidates.candidateId   NaN\n",
              "1               2            $candidates.workspace    JP\n",
              "2               3                $candidates.teaId   NaN\n",
              "3               4                $candidates.title   NaN\n",
              "4               5            $candidates.firstName  FINA\n",
              "...           ...                              ...   ...\n",
              "18387       18388        $paymentMethods.check.zip    PC\n",
              "18388       18389  $paymentMethods.check.countryId    CC\n",
              "18389       18390                              $hp   NaN\n",
              "18390       18391                     $subDistrict  CITY\n",
              "18391       18392                    $urbanVillage   NaN\n",
              "\n",
              "[18390 rows x 3 columns]"
            ],
            "text/html": [
              "\n",
              "  <div id=\"df-4e280284-40ee-44ef-9625-227c94fa6c5f\">\n",
              "    <div class=\"colab-df-container\">\n",
              "      <div>\n",
              "<style scoped>\n",
              "    .dataframe tbody tr th:only-of-type {\n",
              "        vertical-align: middle;\n",
              "    }\n",
              "\n",
              "    .dataframe tbody tr th {\n",
              "        vertical-align: top;\n",
              "    }\n",
              "\n",
              "    .dataframe thead th {\n",
              "        text-align: right;\n",
              "    }\n",
              "</style>\n",
              "<table border=\"1\" class=\"dataframe\">\n",
              "  <thead>\n",
              "    <tr style=\"text-align: right;\">\n",
              "      <th></th>\n",
              "      <th>Unnamed: 0</th>\n",
              "      <th>Data</th>\n",
              "      <th>Label</th>\n",
              "    </tr>\n",
              "  </thead>\n",
              "  <tbody>\n",
              "    <tr>\n",
              "      <th>0</th>\n",
              "      <td>1</td>\n",
              "      <td>$candidates.candidateId</td>\n",
              "      <td>NaN</td>\n",
              "    </tr>\n",
              "    <tr>\n",
              "      <th>1</th>\n",
              "      <td>2</td>\n",
              "      <td>$candidates.workspace</td>\n",
              "      <td>JP</td>\n",
              "    </tr>\n",
              "    <tr>\n",
              "      <th>2</th>\n",
              "      <td>3</td>\n",
              "      <td>$candidates.teaId</td>\n",
              "      <td>NaN</td>\n",
              "    </tr>\n",
              "    <tr>\n",
              "      <th>3</th>\n",
              "      <td>4</td>\n",
              "      <td>$candidates.title</td>\n",
              "      <td>NaN</td>\n",
              "    </tr>\n",
              "    <tr>\n",
              "      <th>4</th>\n",
              "      <td>5</td>\n",
              "      <td>$candidates.firstName</td>\n",
              "      <td>FINA</td>\n",
              "    </tr>\n",
              "    <tr>\n",
              "      <th>...</th>\n",
              "      <td>...</td>\n",
              "      <td>...</td>\n",
              "      <td>...</td>\n",
              "    </tr>\n",
              "    <tr>\n",
              "      <th>18387</th>\n",
              "      <td>18388</td>\n",
              "      <td>$paymentMethods.check.zip</td>\n",
              "      <td>PC</td>\n",
              "    </tr>\n",
              "    <tr>\n",
              "      <th>18388</th>\n",
              "      <td>18389</td>\n",
              "      <td>$paymentMethods.check.countryId</td>\n",
              "      <td>CC</td>\n",
              "    </tr>\n",
              "    <tr>\n",
              "      <th>18389</th>\n",
              "      <td>18390</td>\n",
              "      <td>$hp</td>\n",
              "      <td>NaN</td>\n",
              "    </tr>\n",
              "    <tr>\n",
              "      <th>18390</th>\n",
              "      <td>18391</td>\n",
              "      <td>$subDistrict</td>\n",
              "      <td>CITY</td>\n",
              "    </tr>\n",
              "    <tr>\n",
              "      <th>18391</th>\n",
              "      <td>18392</td>\n",
              "      <td>$urbanVillage</td>\n",
              "      <td>NaN</td>\n",
              "    </tr>\n",
              "  </tbody>\n",
              "</table>\n",
              "<p>18390 rows × 3 columns</p>\n",
              "</div>\n",
              "      <button class=\"colab-df-convert\" onclick=\"convertToInteractive('df-4e280284-40ee-44ef-9625-227c94fa6c5f')\"\n",
              "              title=\"Convert this dataframe to an interactive table.\"\n",
              "              style=\"display:none;\">\n",
              "        \n",
              "  <svg xmlns=\"http://www.w3.org/2000/svg\" height=\"24px\"viewBox=\"0 0 24 24\"\n",
              "       width=\"24px\">\n",
              "    <path d=\"M0 0h24v24H0V0z\" fill=\"none\"/>\n",
              "    <path d=\"M18.56 5.44l.94 2.06.94-2.06 2.06-.94-2.06-.94-.94-2.06-.94 2.06-2.06.94zm-11 1L8.5 8.5l.94-2.06 2.06-.94-2.06-.94L8.5 2.5l-.94 2.06-2.06.94zm10 10l.94 2.06.94-2.06 2.06-.94-2.06-.94-.94-2.06-.94 2.06-2.06.94z\"/><path d=\"M17.41 7.96l-1.37-1.37c-.4-.4-.92-.59-1.43-.59-.52 0-1.04.2-1.43.59L10.3 9.45l-7.72 7.72c-.78.78-.78 2.05 0 2.83L4 21.41c.39.39.9.59 1.41.59.51 0 1.02-.2 1.41-.59l7.78-7.78 2.81-2.81c.8-.78.8-2.07 0-2.86zM5.41 20L4 18.59l7.72-7.72 1.47 1.35L5.41 20z\"/>\n",
              "  </svg>\n",
              "      </button>\n",
              "      \n",
              "  <style>\n",
              "    .colab-df-container {\n",
              "      display:flex;\n",
              "      flex-wrap:wrap;\n",
              "      gap: 12px;\n",
              "    }\n",
              "\n",
              "    .colab-df-convert {\n",
              "      background-color: #E8F0FE;\n",
              "      border: none;\n",
              "      border-radius: 50%;\n",
              "      cursor: pointer;\n",
              "      display: none;\n",
              "      fill: #1967D2;\n",
              "      height: 32px;\n",
              "      padding: 0 0 0 0;\n",
              "      width: 32px;\n",
              "    }\n",
              "\n",
              "    .colab-df-convert:hover {\n",
              "      background-color: #E2EBFA;\n",
              "      box-shadow: 0px 1px 2px rgba(60, 64, 67, 0.3), 0px 1px 3px 1px rgba(60, 64, 67, 0.15);\n",
              "      fill: #174EA6;\n",
              "    }\n",
              "\n",
              "    [theme=dark] .colab-df-convert {\n",
              "      background-color: #3B4455;\n",
              "      fill: #D2E3FC;\n",
              "    }\n",
              "\n",
              "    [theme=dark] .colab-df-convert:hover {\n",
              "      background-color: #434B5C;\n",
              "      box-shadow: 0px 1px 3px 1px rgba(0, 0, 0, 0.15);\n",
              "      filter: drop-shadow(0px 1px 2px rgba(0, 0, 0, 0.3));\n",
              "      fill: #FFFFFF;\n",
              "    }\n",
              "  </style>\n",
              "\n",
              "      <script>\n",
              "        const buttonEl =\n",
              "          document.querySelector('#df-4e280284-40ee-44ef-9625-227c94fa6c5f button.colab-df-convert');\n",
              "        buttonEl.style.display =\n",
              "          google.colab.kernel.accessAllowed ? 'block' : 'none';\n",
              "\n",
              "        async function convertToInteractive(key) {\n",
              "          const element = document.querySelector('#df-4e280284-40ee-44ef-9625-227c94fa6c5f');\n",
              "          const dataTable =\n",
              "            await google.colab.kernel.invokeFunction('convertToInteractive',\n",
              "                                                     [key], {});\n",
              "          if (!dataTable) return;\n",
              "\n",
              "          const docLinkHtml = 'Like what you see? Visit the ' +\n",
              "            '<a target=\"_blank\" href=https://colab.research.google.com/notebooks/data_table.ipynb>data table notebook</a>'\n",
              "            + ' to learn more about interactive tables.';\n",
              "          element.innerHTML = '';\n",
              "          dataTable['output_type'] = 'display_data';\n",
              "          await google.colab.output.renderOutput(dataTable, element);\n",
              "          const docLink = document.createElement('div');\n",
              "          docLink.innerHTML = docLinkHtml;\n",
              "          element.appendChild(docLink);\n",
              "        }\n",
              "      </script>\n",
              "    </div>\n",
              "  </div>\n",
              "  "
            ]
          },
          "metadata": {},
          "execution_count": 2
        }
      ]
    },
    {
      "cell_type": "code",
      "source": [
        "#Splitting the word with the upper case\n",
        "\n",
        "newCol=[]\n",
        "for i in df[\"Data\"]:\n",
        "    temp=i\n",
        "    n=len(temp)\n",
        "    j=0\n",
        "    while j<n:\n",
        "        if ord(temp[j])<=90 and ord(temp[j])>=65:\n",
        "            temp=temp[:j]+\" \"+temp[j:]\n",
        "            n+=1\n",
        "            j+=1\n",
        "        j+=1\n",
        "    newCol.append(temp)"
      ],
      "metadata": {
        "id": "9gH-YBkMdIVc"
      },
      "id": "9gH-YBkMdIVc",
      "execution_count": null,
      "outputs": []
    },
    {
      "cell_type": "code",
      "source": [
        "#Camel case separated dataframe can be given as\n",
        "df[\"Separated\"]=newCol"
      ],
      "metadata": {
        "id": "LWHddmfhdKdc"
      },
      "id": "LWHddmfhdKdc",
      "execution_count": null,
      "outputs": []
    },
    {
      "cell_type": "code",
      "source": [
        "df"
      ],
      "metadata": {
        "colab": {
          "base_uri": "https://localhost:8080/",
          "height": 424
        },
        "id": "jzXBlncMqPh2",
        "outputId": "03842d22-d248-47f9-9fbf-98d417dd99ec"
      },
      "id": "jzXBlncMqPh2",
      "execution_count": null,
      "outputs": [
        {
          "output_type": "execute_result",
          "data": {
            "text/plain": [
              "       Unnamed: 0                             Data Label  \\\n",
              "0               1          $candidates.candidateId   NaN   \n",
              "1               2            $candidates.workspace    JP   \n",
              "2               3                $candidates.teaId   NaN   \n",
              "3               4                $candidates.title   NaN   \n",
              "4               5            $candidates.firstName  FINA   \n",
              "...           ...                              ...   ...   \n",
              "18387       18388        $paymentMethods.check.zip    PC   \n",
              "18388       18389  $paymentMethods.check.countryId    CC   \n",
              "18389       18390                              $hp   NaN   \n",
              "18390       18391                     $subDistrict  CITY   \n",
              "18391       18392                    $urbanVillage   NaN   \n",
              "\n",
              "                               Separated  \n",
              "0               $candidates.candidate Id  \n",
              "1                  $candidates.workspace  \n",
              "2                     $candidates.tea Id  \n",
              "3                      $candidates.title  \n",
              "4                 $candidates.first Name  \n",
              "...                                  ...  \n",
              "18387         $payment Methods.check.zip  \n",
              "18388  $payment Methods.check.country Id  \n",
              "18389                                $hp  \n",
              "18390                      $sub District  \n",
              "18391                     $urban Village  \n",
              "\n",
              "[18390 rows x 4 columns]"
            ],
            "text/html": [
              "\n",
              "  <div id=\"df-168762be-266e-4604-ab72-a3956f70dc6d\">\n",
              "    <div class=\"colab-df-container\">\n",
              "      <div>\n",
              "<style scoped>\n",
              "    .dataframe tbody tr th:only-of-type {\n",
              "        vertical-align: middle;\n",
              "    }\n",
              "\n",
              "    .dataframe tbody tr th {\n",
              "        vertical-align: top;\n",
              "    }\n",
              "\n",
              "    .dataframe thead th {\n",
              "        text-align: right;\n",
              "    }\n",
              "</style>\n",
              "<table border=\"1\" class=\"dataframe\">\n",
              "  <thead>\n",
              "    <tr style=\"text-align: right;\">\n",
              "      <th></th>\n",
              "      <th>Unnamed: 0</th>\n",
              "      <th>Data</th>\n",
              "      <th>Label</th>\n",
              "      <th>Separated</th>\n",
              "    </tr>\n",
              "  </thead>\n",
              "  <tbody>\n",
              "    <tr>\n",
              "      <th>0</th>\n",
              "      <td>1</td>\n",
              "      <td>$candidates.candidateId</td>\n",
              "      <td>NaN</td>\n",
              "      <td>$candidates.candidate Id</td>\n",
              "    </tr>\n",
              "    <tr>\n",
              "      <th>1</th>\n",
              "      <td>2</td>\n",
              "      <td>$candidates.workspace</td>\n",
              "      <td>JP</td>\n",
              "      <td>$candidates.workspace</td>\n",
              "    </tr>\n",
              "    <tr>\n",
              "      <th>2</th>\n",
              "      <td>3</td>\n",
              "      <td>$candidates.teaId</td>\n",
              "      <td>NaN</td>\n",
              "      <td>$candidates.tea Id</td>\n",
              "    </tr>\n",
              "    <tr>\n",
              "      <th>3</th>\n",
              "      <td>4</td>\n",
              "      <td>$candidates.title</td>\n",
              "      <td>NaN</td>\n",
              "      <td>$candidates.title</td>\n",
              "    </tr>\n",
              "    <tr>\n",
              "      <th>4</th>\n",
              "      <td>5</td>\n",
              "      <td>$candidates.firstName</td>\n",
              "      <td>FINA</td>\n",
              "      <td>$candidates.first Name</td>\n",
              "    </tr>\n",
              "    <tr>\n",
              "      <th>...</th>\n",
              "      <td>...</td>\n",
              "      <td>...</td>\n",
              "      <td>...</td>\n",
              "      <td>...</td>\n",
              "    </tr>\n",
              "    <tr>\n",
              "      <th>18387</th>\n",
              "      <td>18388</td>\n",
              "      <td>$paymentMethods.check.zip</td>\n",
              "      <td>PC</td>\n",
              "      <td>$payment Methods.check.zip</td>\n",
              "    </tr>\n",
              "    <tr>\n",
              "      <th>18388</th>\n",
              "      <td>18389</td>\n",
              "      <td>$paymentMethods.check.countryId</td>\n",
              "      <td>CC</td>\n",
              "      <td>$payment Methods.check.country Id</td>\n",
              "    </tr>\n",
              "    <tr>\n",
              "      <th>18389</th>\n",
              "      <td>18390</td>\n",
              "      <td>$hp</td>\n",
              "      <td>NaN</td>\n",
              "      <td>$hp</td>\n",
              "    </tr>\n",
              "    <tr>\n",
              "      <th>18390</th>\n",
              "      <td>18391</td>\n",
              "      <td>$subDistrict</td>\n",
              "      <td>CITY</td>\n",
              "      <td>$sub District</td>\n",
              "    </tr>\n",
              "    <tr>\n",
              "      <th>18391</th>\n",
              "      <td>18392</td>\n",
              "      <td>$urbanVillage</td>\n",
              "      <td>NaN</td>\n",
              "      <td>$urban Village</td>\n",
              "    </tr>\n",
              "  </tbody>\n",
              "</table>\n",
              "<p>18390 rows × 4 columns</p>\n",
              "</div>\n",
              "      <button class=\"colab-df-convert\" onclick=\"convertToInteractive('df-168762be-266e-4604-ab72-a3956f70dc6d')\"\n",
              "              title=\"Convert this dataframe to an interactive table.\"\n",
              "              style=\"display:none;\">\n",
              "        \n",
              "  <svg xmlns=\"http://www.w3.org/2000/svg\" height=\"24px\"viewBox=\"0 0 24 24\"\n",
              "       width=\"24px\">\n",
              "    <path d=\"M0 0h24v24H0V0z\" fill=\"none\"/>\n",
              "    <path d=\"M18.56 5.44l.94 2.06.94-2.06 2.06-.94-2.06-.94-.94-2.06-.94 2.06-2.06.94zm-11 1L8.5 8.5l.94-2.06 2.06-.94-2.06-.94L8.5 2.5l-.94 2.06-2.06.94zm10 10l.94 2.06.94-2.06 2.06-.94-2.06-.94-.94-2.06-.94 2.06-2.06.94z\"/><path d=\"M17.41 7.96l-1.37-1.37c-.4-.4-.92-.59-1.43-.59-.52 0-1.04.2-1.43.59L10.3 9.45l-7.72 7.72c-.78.78-.78 2.05 0 2.83L4 21.41c.39.39.9.59 1.41.59.51 0 1.02-.2 1.41-.59l7.78-7.78 2.81-2.81c.8-.78.8-2.07 0-2.86zM5.41 20L4 18.59l7.72-7.72 1.47 1.35L5.41 20z\"/>\n",
              "  </svg>\n",
              "      </button>\n",
              "      \n",
              "  <style>\n",
              "    .colab-df-container {\n",
              "      display:flex;\n",
              "      flex-wrap:wrap;\n",
              "      gap: 12px;\n",
              "    }\n",
              "\n",
              "    .colab-df-convert {\n",
              "      background-color: #E8F0FE;\n",
              "      border: none;\n",
              "      border-radius: 50%;\n",
              "      cursor: pointer;\n",
              "      display: none;\n",
              "      fill: #1967D2;\n",
              "      height: 32px;\n",
              "      padding: 0 0 0 0;\n",
              "      width: 32px;\n",
              "    }\n",
              "\n",
              "    .colab-df-convert:hover {\n",
              "      background-color: #E2EBFA;\n",
              "      box-shadow: 0px 1px 2px rgba(60, 64, 67, 0.3), 0px 1px 3px 1px rgba(60, 64, 67, 0.15);\n",
              "      fill: #174EA6;\n",
              "    }\n",
              "\n",
              "    [theme=dark] .colab-df-convert {\n",
              "      background-color: #3B4455;\n",
              "      fill: #D2E3FC;\n",
              "    }\n",
              "\n",
              "    [theme=dark] .colab-df-convert:hover {\n",
              "      background-color: #434B5C;\n",
              "      box-shadow: 0px 1px 3px 1px rgba(0, 0, 0, 0.15);\n",
              "      filter: drop-shadow(0px 1px 2px rgba(0, 0, 0, 0.3));\n",
              "      fill: #FFFFFF;\n",
              "    }\n",
              "  </style>\n",
              "\n",
              "      <script>\n",
              "        const buttonEl =\n",
              "          document.querySelector('#df-168762be-266e-4604-ab72-a3956f70dc6d button.colab-df-convert');\n",
              "        buttonEl.style.display =\n",
              "          google.colab.kernel.accessAllowed ? 'block' : 'none';\n",
              "\n",
              "        async function convertToInteractive(key) {\n",
              "          const element = document.querySelector('#df-168762be-266e-4604-ab72-a3956f70dc6d');\n",
              "          const dataTable =\n",
              "            await google.colab.kernel.invokeFunction('convertToInteractive',\n",
              "                                                     [key], {});\n",
              "          if (!dataTable) return;\n",
              "\n",
              "          const docLinkHtml = 'Like what you see? Visit the ' +\n",
              "            '<a target=\"_blank\" href=https://colab.research.google.com/notebooks/data_table.ipynb>data table notebook</a>'\n",
              "            + ' to learn more about interactive tables.';\n",
              "          element.innerHTML = '';\n",
              "          dataTable['output_type'] = 'display_data';\n",
              "          await google.colab.output.renderOutput(dataTable, element);\n",
              "          const docLink = document.createElement('div');\n",
              "          docLink.innerHTML = docLinkHtml;\n",
              "          element.appendChild(docLink);\n",
              "        }\n",
              "      </script>\n",
              "    </div>\n",
              "  </div>\n",
              "  "
            ]
          },
          "metadata": {},
          "execution_count": 5
        }
      ]
    },
    {
      "cell_type": "code",
      "source": [
        "###Text Preprocessing\n",
        "\n",
        "#Convert the data type of the column to string\n",
        "df[\"Separated\"]=df[\"Separated\"].astype('string')\n",
        "\n",
        "#Replace $ with blank\n",
        "df[\"Separated\"]=df[\"Separated\"].str.replace(\"$\",\"\")\n",
        "\n",
        "#Replace the space with .\n",
        "df[\"Separated\"]=df[\"Separated\"].str.replace(\" \",\".\")\n",
        "\n",
        "#Convert the whole text into lower case\n",
        "df['Separated']=df['Separated'].str.lower()\n",
        "\n",
        "#Split the data into different words\n",
        "df[\"Text_Split\"]= df[\"Separated\"].str.split(\".\")\n",
        "\n",
        "#Label the classes to 0 and 1\n",
        "\n",
        "df['Label'] = df['Label'].fillna(0)\n",
        "df.loc[df['Label'] != 0, 'Label'] = 1"
      ],
      "metadata": {
        "colab": {
          "base_uri": "https://localhost:8080/"
        },
        "id": "Z8uOHvQEdMoh",
        "outputId": "83e84f88-2433-4c44-fc13-ff7147b23b6b"
      },
      "id": "Z8uOHvQEdMoh",
      "execution_count": null,
      "outputs": [
        {
          "output_type": "stream",
          "name": "stderr",
          "text": [
            "/usr/local/lib/python3.7/dist-packages/ipykernel_launcher.py:7: FutureWarning: The default value of regex will change from True to False in a future version. In addition, single character regular expressions will *not* be treated as literal strings when regex=True.\n",
            "  import sys\n"
          ]
        }
      ]
    },
    {
      "cell_type": "code",
      "source": [
        "df['Text_Split']=df['Text_Split'].astype('string')"
      ],
      "metadata": {
        "id": "b4PGMCJxdVZU"
      },
      "id": "b4PGMCJxdVZU",
      "execution_count": null,
      "outputs": []
    },
    {
      "cell_type": "code",
      "source": [
        "df.iloc[:,4]=df.iloc[:,4].str.replace(\"[\",\"\")\n",
        "df.iloc[:,4]=df.iloc[:,4].str.replace(\"]\",\"\")\n",
        "df.iloc[:,4]=df.iloc[:,4].str.replace(\",\",\"\")\n",
        "df.iloc[:,4]=df.iloc[:,4].str.replace(\"'\",\"\")"
      ],
      "metadata": {
        "colab": {
          "base_uri": "https://localhost:8080/"
        },
        "id": "Ib9Y67EbdV3s",
        "outputId": "3dcfdd7e-b694-4a86-9975-f48ade3d2a85"
      },
      "id": "Ib9Y67EbdV3s",
      "execution_count": null,
      "outputs": [
        {
          "output_type": "stream",
          "name": "stderr",
          "text": [
            "/usr/local/lib/python3.7/dist-packages/ipykernel_launcher.py:1: FutureWarning: The default value of regex will change from True to False in a future version. In addition, single character regular expressions will *not* be treated as literal strings when regex=True.\n",
            "  \"\"\"Entry point for launching an IPython kernel.\n",
            "/usr/local/lib/python3.7/dist-packages/ipykernel_launcher.py:2: FutureWarning: The default value of regex will change from True to False in a future version. In addition, single character regular expressions will *not* be treated as literal strings when regex=True.\n",
            "  \n"
          ]
        }
      ]
    },
    {
      "cell_type": "code",
      "source": [
        "df"
      ],
      "metadata": {
        "colab": {
          "base_uri": "https://localhost:8080/",
          "height": 424
        },
        "id": "WqdY0zmsdXld",
        "outputId": "34ed3369-ad51-4bcc-f5cb-247cce978321"
      },
      "id": "WqdY0zmsdXld",
      "execution_count": null,
      "outputs": [
        {
          "output_type": "execute_result",
          "data": {
            "text/plain": [
              "       Unnamed: 0                             Data Label  \\\n",
              "0               1          $candidates.candidateId     0   \n",
              "1               2            $candidates.workspace     1   \n",
              "2               3                $candidates.teaId     0   \n",
              "3               4                $candidates.title     0   \n",
              "4               5            $candidates.firstName     1   \n",
              "...           ...                              ...   ...   \n",
              "18387       18388        $paymentMethods.check.zip     1   \n",
              "18388       18389  $paymentMethods.check.countryId     1   \n",
              "18389       18390                              $hp     0   \n",
              "18390       18391                     $subDistrict     1   \n",
              "18391       18392                    $urbanVillage     0   \n",
              "\n",
              "                              Separated                        Text_Split  \n",
              "0               candidates.candidate.id           candidates candidate id  \n",
              "1                  candidates.workspace              candidates workspace  \n",
              "2                     candidates.tea.id                 candidates tea id  \n",
              "3                      candidates.title                  candidates title  \n",
              "4                 candidates.first.name             candidates first name  \n",
              "...                                 ...                               ...  \n",
              "18387         payment.methods.check.zip         payment methods check zip  \n",
              "18388  payment.methods.check.country.id  payment methods check country id  \n",
              "18389                                hp                                hp  \n",
              "18390                      sub.district                      sub district  \n",
              "18391                     urban.village                     urban village  \n",
              "\n",
              "[18390 rows x 5 columns]"
            ],
            "text/html": [
              "\n",
              "  <div id=\"df-ab03e500-056c-4fc2-a3b7-a92703e3f200\">\n",
              "    <div class=\"colab-df-container\">\n",
              "      <div>\n",
              "<style scoped>\n",
              "    .dataframe tbody tr th:only-of-type {\n",
              "        vertical-align: middle;\n",
              "    }\n",
              "\n",
              "    .dataframe tbody tr th {\n",
              "        vertical-align: top;\n",
              "    }\n",
              "\n",
              "    .dataframe thead th {\n",
              "        text-align: right;\n",
              "    }\n",
              "</style>\n",
              "<table border=\"1\" class=\"dataframe\">\n",
              "  <thead>\n",
              "    <tr style=\"text-align: right;\">\n",
              "      <th></th>\n",
              "      <th>Unnamed: 0</th>\n",
              "      <th>Data</th>\n",
              "      <th>Label</th>\n",
              "      <th>Separated</th>\n",
              "      <th>Text_Split</th>\n",
              "    </tr>\n",
              "  </thead>\n",
              "  <tbody>\n",
              "    <tr>\n",
              "      <th>0</th>\n",
              "      <td>1</td>\n",
              "      <td>$candidates.candidateId</td>\n",
              "      <td>0</td>\n",
              "      <td>candidates.candidate.id</td>\n",
              "      <td>candidates candidate id</td>\n",
              "    </tr>\n",
              "    <tr>\n",
              "      <th>1</th>\n",
              "      <td>2</td>\n",
              "      <td>$candidates.workspace</td>\n",
              "      <td>1</td>\n",
              "      <td>candidates.workspace</td>\n",
              "      <td>candidates workspace</td>\n",
              "    </tr>\n",
              "    <tr>\n",
              "      <th>2</th>\n",
              "      <td>3</td>\n",
              "      <td>$candidates.teaId</td>\n",
              "      <td>0</td>\n",
              "      <td>candidates.tea.id</td>\n",
              "      <td>candidates tea id</td>\n",
              "    </tr>\n",
              "    <tr>\n",
              "      <th>3</th>\n",
              "      <td>4</td>\n",
              "      <td>$candidates.title</td>\n",
              "      <td>0</td>\n",
              "      <td>candidates.title</td>\n",
              "      <td>candidates title</td>\n",
              "    </tr>\n",
              "    <tr>\n",
              "      <th>4</th>\n",
              "      <td>5</td>\n",
              "      <td>$candidates.firstName</td>\n",
              "      <td>1</td>\n",
              "      <td>candidates.first.name</td>\n",
              "      <td>candidates first name</td>\n",
              "    </tr>\n",
              "    <tr>\n",
              "      <th>...</th>\n",
              "      <td>...</td>\n",
              "      <td>...</td>\n",
              "      <td>...</td>\n",
              "      <td>...</td>\n",
              "      <td>...</td>\n",
              "    </tr>\n",
              "    <tr>\n",
              "      <th>18387</th>\n",
              "      <td>18388</td>\n",
              "      <td>$paymentMethods.check.zip</td>\n",
              "      <td>1</td>\n",
              "      <td>payment.methods.check.zip</td>\n",
              "      <td>payment methods check zip</td>\n",
              "    </tr>\n",
              "    <tr>\n",
              "      <th>18388</th>\n",
              "      <td>18389</td>\n",
              "      <td>$paymentMethods.check.countryId</td>\n",
              "      <td>1</td>\n",
              "      <td>payment.methods.check.country.id</td>\n",
              "      <td>payment methods check country id</td>\n",
              "    </tr>\n",
              "    <tr>\n",
              "      <th>18389</th>\n",
              "      <td>18390</td>\n",
              "      <td>$hp</td>\n",
              "      <td>0</td>\n",
              "      <td>hp</td>\n",
              "      <td>hp</td>\n",
              "    </tr>\n",
              "    <tr>\n",
              "      <th>18390</th>\n",
              "      <td>18391</td>\n",
              "      <td>$subDistrict</td>\n",
              "      <td>1</td>\n",
              "      <td>sub.district</td>\n",
              "      <td>sub district</td>\n",
              "    </tr>\n",
              "    <tr>\n",
              "      <th>18391</th>\n",
              "      <td>18392</td>\n",
              "      <td>$urbanVillage</td>\n",
              "      <td>0</td>\n",
              "      <td>urban.village</td>\n",
              "      <td>urban village</td>\n",
              "    </tr>\n",
              "  </tbody>\n",
              "</table>\n",
              "<p>18390 rows × 5 columns</p>\n",
              "</div>\n",
              "      <button class=\"colab-df-convert\" onclick=\"convertToInteractive('df-ab03e500-056c-4fc2-a3b7-a92703e3f200')\"\n",
              "              title=\"Convert this dataframe to an interactive table.\"\n",
              "              style=\"display:none;\">\n",
              "        \n",
              "  <svg xmlns=\"http://www.w3.org/2000/svg\" height=\"24px\"viewBox=\"0 0 24 24\"\n",
              "       width=\"24px\">\n",
              "    <path d=\"M0 0h24v24H0V0z\" fill=\"none\"/>\n",
              "    <path d=\"M18.56 5.44l.94 2.06.94-2.06 2.06-.94-2.06-.94-.94-2.06-.94 2.06-2.06.94zm-11 1L8.5 8.5l.94-2.06 2.06-.94-2.06-.94L8.5 2.5l-.94 2.06-2.06.94zm10 10l.94 2.06.94-2.06 2.06-.94-2.06-.94-.94-2.06-.94 2.06-2.06.94z\"/><path d=\"M17.41 7.96l-1.37-1.37c-.4-.4-.92-.59-1.43-.59-.52 0-1.04.2-1.43.59L10.3 9.45l-7.72 7.72c-.78.78-.78 2.05 0 2.83L4 21.41c.39.39.9.59 1.41.59.51 0 1.02-.2 1.41-.59l7.78-7.78 2.81-2.81c.8-.78.8-2.07 0-2.86zM5.41 20L4 18.59l7.72-7.72 1.47 1.35L5.41 20z\"/>\n",
              "  </svg>\n",
              "      </button>\n",
              "      \n",
              "  <style>\n",
              "    .colab-df-container {\n",
              "      display:flex;\n",
              "      flex-wrap:wrap;\n",
              "      gap: 12px;\n",
              "    }\n",
              "\n",
              "    .colab-df-convert {\n",
              "      background-color: #E8F0FE;\n",
              "      border: none;\n",
              "      border-radius: 50%;\n",
              "      cursor: pointer;\n",
              "      display: none;\n",
              "      fill: #1967D2;\n",
              "      height: 32px;\n",
              "      padding: 0 0 0 0;\n",
              "      width: 32px;\n",
              "    }\n",
              "\n",
              "    .colab-df-convert:hover {\n",
              "      background-color: #E2EBFA;\n",
              "      box-shadow: 0px 1px 2px rgba(60, 64, 67, 0.3), 0px 1px 3px 1px rgba(60, 64, 67, 0.15);\n",
              "      fill: #174EA6;\n",
              "    }\n",
              "\n",
              "    [theme=dark] .colab-df-convert {\n",
              "      background-color: #3B4455;\n",
              "      fill: #D2E3FC;\n",
              "    }\n",
              "\n",
              "    [theme=dark] .colab-df-convert:hover {\n",
              "      background-color: #434B5C;\n",
              "      box-shadow: 0px 1px 3px 1px rgba(0, 0, 0, 0.15);\n",
              "      filter: drop-shadow(0px 1px 2px rgba(0, 0, 0, 0.3));\n",
              "      fill: #FFFFFF;\n",
              "    }\n",
              "  </style>\n",
              "\n",
              "      <script>\n",
              "        const buttonEl =\n",
              "          document.querySelector('#df-ab03e500-056c-4fc2-a3b7-a92703e3f200 button.colab-df-convert');\n",
              "        buttonEl.style.display =\n",
              "          google.colab.kernel.accessAllowed ? 'block' : 'none';\n",
              "\n",
              "        async function convertToInteractive(key) {\n",
              "          const element = document.querySelector('#df-ab03e500-056c-4fc2-a3b7-a92703e3f200');\n",
              "          const dataTable =\n",
              "            await google.colab.kernel.invokeFunction('convertToInteractive',\n",
              "                                                     [key], {});\n",
              "          if (!dataTable) return;\n",
              "\n",
              "          const docLinkHtml = 'Like what you see? Visit the ' +\n",
              "            '<a target=\"_blank\" href=https://colab.research.google.com/notebooks/data_table.ipynb>data table notebook</a>'\n",
              "            + ' to learn more about interactive tables.';\n",
              "          element.innerHTML = '';\n",
              "          dataTable['output_type'] = 'display_data';\n",
              "          await google.colab.output.renderOutput(dataTable, element);\n",
              "          const docLink = document.createElement('div');\n",
              "          docLink.innerHTML = docLinkHtml;\n",
              "          element.appendChild(docLink);\n",
              "        }\n",
              "      </script>\n",
              "    </div>\n",
              "  </div>\n",
              "  "
            ]
          },
          "metadata": {},
          "execution_count": 9
        }
      ]
    },
    {
      "cell_type": "code",
      "source": [
        "ddf=df.assign(New_Text_Split=df.Text_Split.str.split(\" \")).explode('Text_Split')"
      ],
      "metadata": {
        "id": "GDw6qfnJdmh0"
      },
      "id": "GDw6qfnJdmh0",
      "execution_count": null,
      "outputs": []
    },
    {
      "cell_type": "code",
      "source": [
        "ddf"
      ],
      "metadata": {
        "colab": {
          "base_uri": "https://localhost:8080/",
          "height": 502
        },
        "id": "iUthZDdbdtEk",
        "outputId": "4903a5e0-2135-4727-8fbe-fabc2a419913"
      },
      "id": "iUthZDdbdtEk",
      "execution_count": null,
      "outputs": [
        {
          "output_type": "execute_result",
          "data": {
            "text/plain": [
              "       Unnamed: 0                             Data Label  \\\n",
              "0               1          $candidates.candidateId     0   \n",
              "1               2            $candidates.workspace     1   \n",
              "2               3                $candidates.teaId     0   \n",
              "3               4                $candidates.title     0   \n",
              "4               5            $candidates.firstName     1   \n",
              "...           ...                              ...   ...   \n",
              "18387       18388        $paymentMethods.check.zip     1   \n",
              "18388       18389  $paymentMethods.check.countryId     1   \n",
              "18389       18390                              $hp     0   \n",
              "18390       18391                     $subDistrict     1   \n",
              "18391       18392                    $urbanVillage     0   \n",
              "\n",
              "                              Separated                        Text_Split  \\\n",
              "0               candidates.candidate.id           candidates candidate id   \n",
              "1                  candidates.workspace              candidates workspace   \n",
              "2                     candidates.tea.id                 candidates tea id   \n",
              "3                      candidates.title                  candidates title   \n",
              "4                 candidates.first.name             candidates first name   \n",
              "...                                 ...                               ...   \n",
              "18387         payment.methods.check.zip         payment methods check zip   \n",
              "18388  payment.methods.check.country.id  payment methods check country id   \n",
              "18389                                hp                                hp   \n",
              "18390                      sub.district                      sub district   \n",
              "18391                     urban.village                     urban village   \n",
              "\n",
              "                               New_Text_Split  \n",
              "0                 [candidates, candidate, id]  \n",
              "1                     [candidates, workspace]  \n",
              "2                       [candidates, tea, id]  \n",
              "3                         [candidates, title]  \n",
              "4                   [candidates, first, name]  \n",
              "...                                       ...  \n",
              "18387          [payment, methods, check, zip]  \n",
              "18388  [payment, methods, check, country, id]  \n",
              "18389                                    [hp]  \n",
              "18390                         [sub, district]  \n",
              "18391                        [urban, village]  \n",
              "\n",
              "[18390 rows x 6 columns]"
            ],
            "text/html": [
              "\n",
              "  <div id=\"df-515c8301-4fce-4f9c-8f85-b7189bdaecd6\">\n",
              "    <div class=\"colab-df-container\">\n",
              "      <div>\n",
              "<style scoped>\n",
              "    .dataframe tbody tr th:only-of-type {\n",
              "        vertical-align: middle;\n",
              "    }\n",
              "\n",
              "    .dataframe tbody tr th {\n",
              "        vertical-align: top;\n",
              "    }\n",
              "\n",
              "    .dataframe thead th {\n",
              "        text-align: right;\n",
              "    }\n",
              "</style>\n",
              "<table border=\"1\" class=\"dataframe\">\n",
              "  <thead>\n",
              "    <tr style=\"text-align: right;\">\n",
              "      <th></th>\n",
              "      <th>Unnamed: 0</th>\n",
              "      <th>Data</th>\n",
              "      <th>Label</th>\n",
              "      <th>Separated</th>\n",
              "      <th>Text_Split</th>\n",
              "      <th>New_Text_Split</th>\n",
              "    </tr>\n",
              "  </thead>\n",
              "  <tbody>\n",
              "    <tr>\n",
              "      <th>0</th>\n",
              "      <td>1</td>\n",
              "      <td>$candidates.candidateId</td>\n",
              "      <td>0</td>\n",
              "      <td>candidates.candidate.id</td>\n",
              "      <td>candidates candidate id</td>\n",
              "      <td>[candidates, candidate, id]</td>\n",
              "    </tr>\n",
              "    <tr>\n",
              "      <th>1</th>\n",
              "      <td>2</td>\n",
              "      <td>$candidates.workspace</td>\n",
              "      <td>1</td>\n",
              "      <td>candidates.workspace</td>\n",
              "      <td>candidates workspace</td>\n",
              "      <td>[candidates, workspace]</td>\n",
              "    </tr>\n",
              "    <tr>\n",
              "      <th>2</th>\n",
              "      <td>3</td>\n",
              "      <td>$candidates.teaId</td>\n",
              "      <td>0</td>\n",
              "      <td>candidates.tea.id</td>\n",
              "      <td>candidates tea id</td>\n",
              "      <td>[candidates, tea, id]</td>\n",
              "    </tr>\n",
              "    <tr>\n",
              "      <th>3</th>\n",
              "      <td>4</td>\n",
              "      <td>$candidates.title</td>\n",
              "      <td>0</td>\n",
              "      <td>candidates.title</td>\n",
              "      <td>candidates title</td>\n",
              "      <td>[candidates, title]</td>\n",
              "    </tr>\n",
              "    <tr>\n",
              "      <th>4</th>\n",
              "      <td>5</td>\n",
              "      <td>$candidates.firstName</td>\n",
              "      <td>1</td>\n",
              "      <td>candidates.first.name</td>\n",
              "      <td>candidates first name</td>\n",
              "      <td>[candidates, first, name]</td>\n",
              "    </tr>\n",
              "    <tr>\n",
              "      <th>...</th>\n",
              "      <td>...</td>\n",
              "      <td>...</td>\n",
              "      <td>...</td>\n",
              "      <td>...</td>\n",
              "      <td>...</td>\n",
              "      <td>...</td>\n",
              "    </tr>\n",
              "    <tr>\n",
              "      <th>18387</th>\n",
              "      <td>18388</td>\n",
              "      <td>$paymentMethods.check.zip</td>\n",
              "      <td>1</td>\n",
              "      <td>payment.methods.check.zip</td>\n",
              "      <td>payment methods check zip</td>\n",
              "      <td>[payment, methods, check, zip]</td>\n",
              "    </tr>\n",
              "    <tr>\n",
              "      <th>18388</th>\n",
              "      <td>18389</td>\n",
              "      <td>$paymentMethods.check.countryId</td>\n",
              "      <td>1</td>\n",
              "      <td>payment.methods.check.country.id</td>\n",
              "      <td>payment methods check country id</td>\n",
              "      <td>[payment, methods, check, country, id]</td>\n",
              "    </tr>\n",
              "    <tr>\n",
              "      <th>18389</th>\n",
              "      <td>18390</td>\n",
              "      <td>$hp</td>\n",
              "      <td>0</td>\n",
              "      <td>hp</td>\n",
              "      <td>hp</td>\n",
              "      <td>[hp]</td>\n",
              "    </tr>\n",
              "    <tr>\n",
              "      <th>18390</th>\n",
              "      <td>18391</td>\n",
              "      <td>$subDistrict</td>\n",
              "      <td>1</td>\n",
              "      <td>sub.district</td>\n",
              "      <td>sub district</td>\n",
              "      <td>[sub, district]</td>\n",
              "    </tr>\n",
              "    <tr>\n",
              "      <th>18391</th>\n",
              "      <td>18392</td>\n",
              "      <td>$urbanVillage</td>\n",
              "      <td>0</td>\n",
              "      <td>urban.village</td>\n",
              "      <td>urban village</td>\n",
              "      <td>[urban, village]</td>\n",
              "    </tr>\n",
              "  </tbody>\n",
              "</table>\n",
              "<p>18390 rows × 6 columns</p>\n",
              "</div>\n",
              "      <button class=\"colab-df-convert\" onclick=\"convertToInteractive('df-515c8301-4fce-4f9c-8f85-b7189bdaecd6')\"\n",
              "              title=\"Convert this dataframe to an interactive table.\"\n",
              "              style=\"display:none;\">\n",
              "        \n",
              "  <svg xmlns=\"http://www.w3.org/2000/svg\" height=\"24px\"viewBox=\"0 0 24 24\"\n",
              "       width=\"24px\">\n",
              "    <path d=\"M0 0h24v24H0V0z\" fill=\"none\"/>\n",
              "    <path d=\"M18.56 5.44l.94 2.06.94-2.06 2.06-.94-2.06-.94-.94-2.06-.94 2.06-2.06.94zm-11 1L8.5 8.5l.94-2.06 2.06-.94-2.06-.94L8.5 2.5l-.94 2.06-2.06.94zm10 10l.94 2.06.94-2.06 2.06-.94-2.06-.94-.94-2.06-.94 2.06-2.06.94z\"/><path d=\"M17.41 7.96l-1.37-1.37c-.4-.4-.92-.59-1.43-.59-.52 0-1.04.2-1.43.59L10.3 9.45l-7.72 7.72c-.78.78-.78 2.05 0 2.83L4 21.41c.39.39.9.59 1.41.59.51 0 1.02-.2 1.41-.59l7.78-7.78 2.81-2.81c.8-.78.8-2.07 0-2.86zM5.41 20L4 18.59l7.72-7.72 1.47 1.35L5.41 20z\"/>\n",
              "  </svg>\n",
              "      </button>\n",
              "      \n",
              "  <style>\n",
              "    .colab-df-container {\n",
              "      display:flex;\n",
              "      flex-wrap:wrap;\n",
              "      gap: 12px;\n",
              "    }\n",
              "\n",
              "    .colab-df-convert {\n",
              "      background-color: #E8F0FE;\n",
              "      border: none;\n",
              "      border-radius: 50%;\n",
              "      cursor: pointer;\n",
              "      display: none;\n",
              "      fill: #1967D2;\n",
              "      height: 32px;\n",
              "      padding: 0 0 0 0;\n",
              "      width: 32px;\n",
              "    }\n",
              "\n",
              "    .colab-df-convert:hover {\n",
              "      background-color: #E2EBFA;\n",
              "      box-shadow: 0px 1px 2px rgba(60, 64, 67, 0.3), 0px 1px 3px 1px rgba(60, 64, 67, 0.15);\n",
              "      fill: #174EA6;\n",
              "    }\n",
              "\n",
              "    [theme=dark] .colab-df-convert {\n",
              "      background-color: #3B4455;\n",
              "      fill: #D2E3FC;\n",
              "    }\n",
              "\n",
              "    [theme=dark] .colab-df-convert:hover {\n",
              "      background-color: #434B5C;\n",
              "      box-shadow: 0px 1px 3px 1px rgba(0, 0, 0, 0.15);\n",
              "      filter: drop-shadow(0px 1px 2px rgba(0, 0, 0, 0.3));\n",
              "      fill: #FFFFFF;\n",
              "    }\n",
              "  </style>\n",
              "\n",
              "      <script>\n",
              "        const buttonEl =\n",
              "          document.querySelector('#df-515c8301-4fce-4f9c-8f85-b7189bdaecd6 button.colab-df-convert');\n",
              "        buttonEl.style.display =\n",
              "          google.colab.kernel.accessAllowed ? 'block' : 'none';\n",
              "\n",
              "        async function convertToInteractive(key) {\n",
              "          const element = document.querySelector('#df-515c8301-4fce-4f9c-8f85-b7189bdaecd6');\n",
              "          const dataTable =\n",
              "            await google.colab.kernel.invokeFunction('convertToInteractive',\n",
              "                                                     [key], {});\n",
              "          if (!dataTable) return;\n",
              "\n",
              "          const docLinkHtml = 'Like what you see? Visit the ' +\n",
              "            '<a target=\"_blank\" href=https://colab.research.google.com/notebooks/data_table.ipynb>data table notebook</a>'\n",
              "            + ' to learn more about interactive tables.';\n",
              "          element.innerHTML = '';\n",
              "          dataTable['output_type'] = 'display_data';\n",
              "          await google.colab.output.renderOutput(dataTable, element);\n",
              "          const docLink = document.createElement('div');\n",
              "          docLink.innerHTML = docLinkHtml;\n",
              "          element.appendChild(docLink);\n",
              "        }\n",
              "      </script>\n",
              "    </div>\n",
              "  </div>\n",
              "  "
            ]
          },
          "metadata": {},
          "execution_count": 12
        }
      ]
    },
    {
      "cell_type": "code",
      "source": [
        "fdf=ddf.assign(Split=ddf.Text_Split.str.split(\",\")).explode('New_Text_Split')"
      ],
      "metadata": {
        "id": "vFYHLYG7gX87"
      },
      "id": "vFYHLYG7gX87",
      "execution_count": null,
      "outputs": []
    },
    {
      "cell_type": "code",
      "source": [
        "fdf"
      ],
      "metadata": {
        "colab": {
          "base_uri": "https://localhost:8080/",
          "height": 424
        },
        "id": "Bj3Lj_Pngl39",
        "outputId": "5429058f-1af0-4067-b913-6ef0d943b73e"
      },
      "id": "Bj3Lj_Pngl39",
      "execution_count": null,
      "outputs": [
        {
          "output_type": "execute_result",
          "data": {
            "text/plain": [
              "       Unnamed: 0                     Data Label                Separated  \\\n",
              "0               1  $candidates.candidateId     0  candidates.candidate.id   \n",
              "0               1  $candidates.candidateId     0  candidates.candidate.id   \n",
              "0               1  $candidates.candidateId     0  candidates.candidate.id   \n",
              "1               2    $candidates.workspace     1     candidates.workspace   \n",
              "1               2    $candidates.workspace     1     candidates.workspace   \n",
              "...           ...                      ...   ...                      ...   \n",
              "18389       18390                      $hp     0                       hp   \n",
              "18390       18391             $subDistrict     1             sub.district   \n",
              "18390       18391             $subDistrict     1             sub.district   \n",
              "18391       18392            $urbanVillage     0            urban.village   \n",
              "18391       18392            $urbanVillage     0            urban.village   \n",
              "\n",
              "                    Text_Split New_Text_Split                      Split  \n",
              "0      candidates candidate id     candidates  [candidates candidate id]  \n",
              "0      candidates candidate id      candidate  [candidates candidate id]  \n",
              "0      candidates candidate id             id  [candidates candidate id]  \n",
              "1         candidates workspace     candidates     [candidates workspace]  \n",
              "1         candidates workspace      workspace     [candidates workspace]  \n",
              "...                        ...            ...                        ...  \n",
              "18389                       hp             hp                       [hp]  \n",
              "18390             sub district            sub             [sub district]  \n",
              "18390             sub district       district             [sub district]  \n",
              "18391            urban village          urban            [urban village]  \n",
              "18391            urban village        village            [urban village]  \n",
              "\n",
              "[72844 rows x 7 columns]"
            ],
            "text/html": [
              "\n",
              "  <div id=\"df-942b0fd4-b580-4e38-8fea-16e1ef2ccda8\">\n",
              "    <div class=\"colab-df-container\">\n",
              "      <div>\n",
              "<style scoped>\n",
              "    .dataframe tbody tr th:only-of-type {\n",
              "        vertical-align: middle;\n",
              "    }\n",
              "\n",
              "    .dataframe tbody tr th {\n",
              "        vertical-align: top;\n",
              "    }\n",
              "\n",
              "    .dataframe thead th {\n",
              "        text-align: right;\n",
              "    }\n",
              "</style>\n",
              "<table border=\"1\" class=\"dataframe\">\n",
              "  <thead>\n",
              "    <tr style=\"text-align: right;\">\n",
              "      <th></th>\n",
              "      <th>Unnamed: 0</th>\n",
              "      <th>Data</th>\n",
              "      <th>Label</th>\n",
              "      <th>Separated</th>\n",
              "      <th>Text_Split</th>\n",
              "      <th>New_Text_Split</th>\n",
              "      <th>Split</th>\n",
              "    </tr>\n",
              "  </thead>\n",
              "  <tbody>\n",
              "    <tr>\n",
              "      <th>0</th>\n",
              "      <td>1</td>\n",
              "      <td>$candidates.candidateId</td>\n",
              "      <td>0</td>\n",
              "      <td>candidates.candidate.id</td>\n",
              "      <td>candidates candidate id</td>\n",
              "      <td>candidates</td>\n",
              "      <td>[candidates candidate id]</td>\n",
              "    </tr>\n",
              "    <tr>\n",
              "      <th>0</th>\n",
              "      <td>1</td>\n",
              "      <td>$candidates.candidateId</td>\n",
              "      <td>0</td>\n",
              "      <td>candidates.candidate.id</td>\n",
              "      <td>candidates candidate id</td>\n",
              "      <td>candidate</td>\n",
              "      <td>[candidates candidate id]</td>\n",
              "    </tr>\n",
              "    <tr>\n",
              "      <th>0</th>\n",
              "      <td>1</td>\n",
              "      <td>$candidates.candidateId</td>\n",
              "      <td>0</td>\n",
              "      <td>candidates.candidate.id</td>\n",
              "      <td>candidates candidate id</td>\n",
              "      <td>id</td>\n",
              "      <td>[candidates candidate id]</td>\n",
              "    </tr>\n",
              "    <tr>\n",
              "      <th>1</th>\n",
              "      <td>2</td>\n",
              "      <td>$candidates.workspace</td>\n",
              "      <td>1</td>\n",
              "      <td>candidates.workspace</td>\n",
              "      <td>candidates workspace</td>\n",
              "      <td>candidates</td>\n",
              "      <td>[candidates workspace]</td>\n",
              "    </tr>\n",
              "    <tr>\n",
              "      <th>1</th>\n",
              "      <td>2</td>\n",
              "      <td>$candidates.workspace</td>\n",
              "      <td>1</td>\n",
              "      <td>candidates.workspace</td>\n",
              "      <td>candidates workspace</td>\n",
              "      <td>workspace</td>\n",
              "      <td>[candidates workspace]</td>\n",
              "    </tr>\n",
              "    <tr>\n",
              "      <th>...</th>\n",
              "      <td>...</td>\n",
              "      <td>...</td>\n",
              "      <td>...</td>\n",
              "      <td>...</td>\n",
              "      <td>...</td>\n",
              "      <td>...</td>\n",
              "      <td>...</td>\n",
              "    </tr>\n",
              "    <tr>\n",
              "      <th>18389</th>\n",
              "      <td>18390</td>\n",
              "      <td>$hp</td>\n",
              "      <td>0</td>\n",
              "      <td>hp</td>\n",
              "      <td>hp</td>\n",
              "      <td>hp</td>\n",
              "      <td>[hp]</td>\n",
              "    </tr>\n",
              "    <tr>\n",
              "      <th>18390</th>\n",
              "      <td>18391</td>\n",
              "      <td>$subDistrict</td>\n",
              "      <td>1</td>\n",
              "      <td>sub.district</td>\n",
              "      <td>sub district</td>\n",
              "      <td>sub</td>\n",
              "      <td>[sub district]</td>\n",
              "    </tr>\n",
              "    <tr>\n",
              "      <th>18390</th>\n",
              "      <td>18391</td>\n",
              "      <td>$subDistrict</td>\n",
              "      <td>1</td>\n",
              "      <td>sub.district</td>\n",
              "      <td>sub district</td>\n",
              "      <td>district</td>\n",
              "      <td>[sub district]</td>\n",
              "    </tr>\n",
              "    <tr>\n",
              "      <th>18391</th>\n",
              "      <td>18392</td>\n",
              "      <td>$urbanVillage</td>\n",
              "      <td>0</td>\n",
              "      <td>urban.village</td>\n",
              "      <td>urban village</td>\n",
              "      <td>urban</td>\n",
              "      <td>[urban village]</td>\n",
              "    </tr>\n",
              "    <tr>\n",
              "      <th>18391</th>\n",
              "      <td>18392</td>\n",
              "      <td>$urbanVillage</td>\n",
              "      <td>0</td>\n",
              "      <td>urban.village</td>\n",
              "      <td>urban village</td>\n",
              "      <td>village</td>\n",
              "      <td>[urban village]</td>\n",
              "    </tr>\n",
              "  </tbody>\n",
              "</table>\n",
              "<p>72844 rows × 7 columns</p>\n",
              "</div>\n",
              "      <button class=\"colab-df-convert\" onclick=\"convertToInteractive('df-942b0fd4-b580-4e38-8fea-16e1ef2ccda8')\"\n",
              "              title=\"Convert this dataframe to an interactive table.\"\n",
              "              style=\"display:none;\">\n",
              "        \n",
              "  <svg xmlns=\"http://www.w3.org/2000/svg\" height=\"24px\"viewBox=\"0 0 24 24\"\n",
              "       width=\"24px\">\n",
              "    <path d=\"M0 0h24v24H0V0z\" fill=\"none\"/>\n",
              "    <path d=\"M18.56 5.44l.94 2.06.94-2.06 2.06-.94-2.06-.94-.94-2.06-.94 2.06-2.06.94zm-11 1L8.5 8.5l.94-2.06 2.06-.94-2.06-.94L8.5 2.5l-.94 2.06-2.06.94zm10 10l.94 2.06.94-2.06 2.06-.94-2.06-.94-.94-2.06-.94 2.06-2.06.94z\"/><path d=\"M17.41 7.96l-1.37-1.37c-.4-.4-.92-.59-1.43-.59-.52 0-1.04.2-1.43.59L10.3 9.45l-7.72 7.72c-.78.78-.78 2.05 0 2.83L4 21.41c.39.39.9.59 1.41.59.51 0 1.02-.2 1.41-.59l7.78-7.78 2.81-2.81c.8-.78.8-2.07 0-2.86zM5.41 20L4 18.59l7.72-7.72 1.47 1.35L5.41 20z\"/>\n",
              "  </svg>\n",
              "      </button>\n",
              "      \n",
              "  <style>\n",
              "    .colab-df-container {\n",
              "      display:flex;\n",
              "      flex-wrap:wrap;\n",
              "      gap: 12px;\n",
              "    }\n",
              "\n",
              "    .colab-df-convert {\n",
              "      background-color: #E8F0FE;\n",
              "      border: none;\n",
              "      border-radius: 50%;\n",
              "      cursor: pointer;\n",
              "      display: none;\n",
              "      fill: #1967D2;\n",
              "      height: 32px;\n",
              "      padding: 0 0 0 0;\n",
              "      width: 32px;\n",
              "    }\n",
              "\n",
              "    .colab-df-convert:hover {\n",
              "      background-color: #E2EBFA;\n",
              "      box-shadow: 0px 1px 2px rgba(60, 64, 67, 0.3), 0px 1px 3px 1px rgba(60, 64, 67, 0.15);\n",
              "      fill: #174EA6;\n",
              "    }\n",
              "\n",
              "    [theme=dark] .colab-df-convert {\n",
              "      background-color: #3B4455;\n",
              "      fill: #D2E3FC;\n",
              "    }\n",
              "\n",
              "    [theme=dark] .colab-df-convert:hover {\n",
              "      background-color: #434B5C;\n",
              "      box-shadow: 0px 1px 3px 1px rgba(0, 0, 0, 0.15);\n",
              "      filter: drop-shadow(0px 1px 2px rgba(0, 0, 0, 0.3));\n",
              "      fill: #FFFFFF;\n",
              "    }\n",
              "  </style>\n",
              "\n",
              "      <script>\n",
              "        const buttonEl =\n",
              "          document.querySelector('#df-942b0fd4-b580-4e38-8fea-16e1ef2ccda8 button.colab-df-convert');\n",
              "        buttonEl.style.display =\n",
              "          google.colab.kernel.accessAllowed ? 'block' : 'none';\n",
              "\n",
              "        async function convertToInteractive(key) {\n",
              "          const element = document.querySelector('#df-942b0fd4-b580-4e38-8fea-16e1ef2ccda8');\n",
              "          const dataTable =\n",
              "            await google.colab.kernel.invokeFunction('convertToInteractive',\n",
              "                                                     [key], {});\n",
              "          if (!dataTable) return;\n",
              "\n",
              "          const docLinkHtml = 'Like what you see? Visit the ' +\n",
              "            '<a target=\"_blank\" href=https://colab.research.google.com/notebooks/data_table.ipynb>data table notebook</a>'\n",
              "            + ' to learn more about interactive tables.';\n",
              "          element.innerHTML = '';\n",
              "          dataTable['output_type'] = 'display_data';\n",
              "          await google.colab.output.renderOutput(dataTable, element);\n",
              "          const docLink = document.createElement('div');\n",
              "          docLink.innerHTML = docLinkHtml;\n",
              "          element.appendChild(docLink);\n",
              "        }\n",
              "      </script>\n",
              "    </div>\n",
              "  </div>\n",
              "  "
            ]
          },
          "metadata": {},
          "execution_count": 15
        }
      ]
    },
    {
      "cell_type": "code",
      "source": [
        "temp=[]\n",
        "temp=fdf['New_Text_Split']"
      ],
      "metadata": {
        "id": "dOngayv7go8u"
      },
      "id": "dOngayv7go8u",
      "execution_count": null,
      "outputs": []
    },
    {
      "cell_type": "code",
      "source": [
        "myset=set(temp)\n",
        "len(myset)"
      ],
      "metadata": {
        "colab": {
          "base_uri": "https://localhost:8080/"
        },
        "id": "-GMV97fQg1ba",
        "outputId": "fcfdf738-b865-47a2-8f67-9719f90ecab4"
      },
      "id": "-GMV97fQg1ba",
      "execution_count": null,
      "outputs": [
        {
          "output_type": "execute_result",
          "data": {
            "text/plain": [
              "5050"
            ]
          },
          "metadata": {},
          "execution_count": 17
        }
      ]
    },
    {
      "cell_type": "code",
      "execution_count": null,
      "id": "4784c694",
      "metadata": {
        "id": "4784c694"
      },
      "outputs": [],
      "source": [
        "def json_extract(obj, array_count=True):\n",
        "    \"\"\"\n",
        "    inputs a json dictionary\n",
        "    returns json paths\n",
        "    \"\"\"\n",
        "    out = {}\n",
        "\n",
        "    def flatten(x, name=''):\n",
        "        if isinstance(x, dict):\n",
        "            for a in x:\n",
        "                flatten(x[a], name + a + '.')\n",
        "        elif isinstance(x, list):\n",
        "            if array_count:\n",
        "                for i, a in enumerate(x):\n",
        "                    flatten(a, name[:-1] + str([i]) + '.')\n",
        "            else:\n",
        "                for a in x:\n",
        "                    flatten(a, name[:-1] + '[*]' + '.')\n",
        "        else:\n",
        "            out[name[:-1]] = x\n",
        "\n",
        "    flatten(obj)\n",
        "    return list(out.keys())"
      ]
    },
    {
      "cell_type": "code",
      "execution_count": null,
      "id": "3c92cf92",
      "metadata": {
        "id": "3c92cf92"
      },
      "outputs": [],
      "source": [
        "obj= {\"employe\":[\n",
        "             {\"name\": \"a\",\n",
        "              \"id\": \"123\"\n",
        "             },\n",
        "             {\"name\":\"b\",\n",
        "              \"id\":\"345\"\n",
        "             }]\n",
        "    \n",
        "    }"
      ]
    },
    {
      "cell_type": "code",
      "source": [
        "obj= {\"employe\":[\n",
        "             {\"first\": [{\"name\":\"Kumar\"}],\n",
        "              \"personalId\": \"123\",\n",
        "              \"age\":\"29\"\n",
        "             },\n",
        "             {\"last\":[{\"name\":\"patel\"}],\n",
        "              \"dept_id\":\"345\"\n",
        "             }]\n",
        "    \n",
        "    }"
      ],
      "metadata": {
        "id": "Me-FdqwBmHKl"
      },
      "id": "Me-FdqwBmHKl",
      "execution_count": null,
      "outputs": []
    },
    {
      "cell_type": "code",
      "execution_count": null,
      "id": "f844c0eb",
      "metadata": {
        "id": "f844c0eb"
      },
      "outputs": [],
      "source": [
        "kaam=json_extract(obj)"
      ]
    },
    {
      "cell_type": "code",
      "execution_count": null,
      "id": "bdf42bab",
      "metadata": {
        "colab": {
          "base_uri": "https://localhost:8080/"
        },
        "id": "bdf42bab",
        "outputId": "d394e701-a5d8-4bc8-e7f5-5a379a3cf026"
      },
      "outputs": [
        {
          "output_type": "execute_result",
          "data": {
            "text/plain": [
              "['employe[0].first[0].name',\n",
              " 'employe[0].personalId',\n",
              " 'employe[0].age',\n",
              " 'employe[1].last[0].name',\n",
              " 'employe[1].dept_id']"
            ]
          },
          "metadata": {},
          "execution_count": 21
        }
      ],
      "source": [
        "kaam"
      ]
    },
    {
      "cell_type": "code",
      "execution_count": null,
      "id": "ff7335cf",
      "metadata": {
        "colab": {
          "base_uri": "https://localhost:8080/"
        },
        "id": "ff7335cf",
        "outputId": "70e765c3-dc63-432b-f2ba-4dfd0d9bba34"
      },
      "outputs": [
        {
          "output_type": "stream",
          "name": "stdout",
          "text": [
            "employe.first.name\n",
            "employe.personalId\n",
            "employe.age\n",
            "employe.last.name\n",
            "employe.dept_id\n"
          ]
        }
      ],
      "source": [
        "import re\n",
        "\n",
        "emp_list=[]\n",
        "\n",
        "def processString4(kaam):\n",
        "    for i in range(len(kaam)):\n",
        "        txt=kaam[i]\n",
        "        txt, n = re.subn('[0-9]', '', txt)\n",
        "        txt = txt.replace(\"[\" ,\"\")\n",
        "        txt = txt.replace(\"]\" ,\"\")\n",
        "        emp_list.append(txt)\n",
        "        print(txt)\n",
        "  \n",
        "processString4(kaam)"
      ]
    },
    {
      "cell_type": "code",
      "execution_count": null,
      "id": "d7e7490f",
      "metadata": {
        "colab": {
          "base_uri": "https://localhost:8080/"
        },
        "id": "d7e7490f",
        "outputId": "dafd5d76-0827-4f7a-90b5-c349081405ff"
      },
      "outputs": [
        {
          "output_type": "execute_result",
          "data": {
            "text/plain": [
              "['employe.first.name',\n",
              " 'employe.personalId',\n",
              " 'employe.age',\n",
              " 'employe.last.name',\n",
              " 'employe.dept_id']"
            ]
          },
          "metadata": {},
          "execution_count": 23
        }
      ],
      "source": [
        "emp_list"
      ]
    },
    {
      "cell_type": "code",
      "execution_count": null,
      "id": "c58bb5e1",
      "metadata": {
        "colab": {
          "base_uri": "https://localhost:8080/"
        },
        "id": "c58bb5e1",
        "outputId": "41651bc8-ec8f-4f30-ef1f-d4544e5162c1"
      },
      "outputs": [
        {
          "output_type": "execute_result",
          "data": {
            "text/plain": [
              "['candi.firstt.nam']"
            ]
          },
          "metadata": {},
          "execution_count": 38
        }
      ],
      "source": [
        "#funtion for splitting the words with the camel case.\n",
        "\n",
        "import re\n",
        "\n",
        "name = 'candi.firstt.nam'\n",
        "#name = emp_list[3]\n",
        "\n",
        "splitted = re.sub('([A-Z][a-z]+)', r' \\1', re.sub('([A-Z]+)', r' \\1', name)).split()\n",
        "splitted"
      ]
    },
    {
      "cell_type": "code",
      "execution_count": null,
      "id": "4de9c258",
      "metadata": {
        "colab": {
          "base_uri": "https://localhost:8080/",
          "height": 36
        },
        "id": "4de9c258",
        "outputId": "9ccfba57-27f1-42b1-b36c-b39fee7913d1"
      },
      "outputs": [
        {
          "output_type": "execute_result",
          "data": {
            "text/plain": [
              "'candi.firstt.nam'"
            ],
            "application/vnd.google.colaboratory.intrinsic+json": {
              "type": "string"
            }
          },
          "metadata": {},
          "execution_count": 39
        }
      ],
      "source": [
        "def listToString(s):\n",
        "   \n",
        "    # initialize an empty string\n",
        "    str1 = \" \"\n",
        "   \n",
        "    # return string \n",
        "    return (str1.join(s))\n",
        "\n",
        "new=listToString(splitted)\n",
        "new=new.replace(\".\",\" \")\n",
        "new=new.split(\".\")\n",
        "#####\n",
        "new=listToString(new)\n",
        "new=new.replace(\" \",\".\")\n",
        "new"
      ]
    },
    {
      "cell_type": "code",
      "execution_count": null,
      "id": "183d6800",
      "metadata": {
        "colab": {
          "base_uri": "https://localhost:8080/",
          "height": 36
        },
        "id": "183d6800",
        "outputId": "ea2f70b8-d455-4997-e44e-cc0d37839588"
      },
      "outputs": [
        {
          "output_type": "execute_result",
          "data": {
            "text/plain": [
              "'candi firstt nam'"
            ],
            "application/vnd.google.colaboratory.intrinsic+json": {
              "type": "string"
            }
          },
          "metadata": {},
          "execution_count": 40
        }
      ],
      "source": [
        "#for Bert tokeniser\n",
        "new=new.replace(\".\",\" \")\n",
        "new"
      ]
    },
    {
      "cell_type": "code",
      "source": [
        "import nltk\n",
        "nltk.download('punkt')"
      ],
      "metadata": {
        "colab": {
          "base_uri": "https://localhost:8080/"
        },
        "id": "Qxozi1rsU2Fi",
        "outputId": "e8afca26-eb8b-44c0-a941-72d76a630d2a"
      },
      "id": "Qxozi1rsU2Fi",
      "execution_count": null,
      "outputs": [
        {
          "output_type": "stream",
          "name": "stderr",
          "text": [
            "[nltk_data] Downloading package punkt to /root/nltk_data...\n",
            "[nltk_data]   Unzipping tokenizers/punkt.zip.\n"
          ]
        },
        {
          "output_type": "execute_result",
          "data": {
            "text/plain": [
              "True"
            ]
          },
          "metadata": {},
          "execution_count": 28
        }
      ]
    },
    {
      "cell_type": "code",
      "source": [
        "#program for splitting the words in a list\n",
        "from nltk.tokenize import word_tokenize\n",
        "word_list=word_tokenize(new)"
      ],
      "metadata": {
        "id": "S_oT1C6KT7X2"
      },
      "id": "S_oT1C6KT7X2",
      "execution_count": null,
      "outputs": []
    },
    {
      "cell_type": "code",
      "execution_count": null,
      "id": "022312c8",
      "metadata": {
        "colab": {
          "base_uri": "https://localhost:8080/"
        },
        "id": "022312c8",
        "outputId": "485e90cb-8990-4485-a454-875791c7aadb"
      },
      "outputs": [
        {
          "output_type": "execute_result",
          "data": {
            "text/plain": [
              "['candi', 'firstt', 'nam']"
            ]
          },
          "metadata": {},
          "execution_count": 42
        }
      ],
      "source": [
        "word_list"
      ]
    },
    {
      "cell_type": "code",
      "source": [
        "test=word_list"
      ],
      "metadata": {
        "id": "MDty7zc4sQuf"
      },
      "id": "MDty7zc4sQuf",
      "execution_count": null,
      "outputs": []
    },
    {
      "cell_type": "code",
      "source": [
        "ct=0\n",
        "for i in word_list:\n",
        "  \n",
        "  if i not in myset:\n",
        "     print(\"'\",i,\"'\",\" string is not present in the database\")\n",
        "     a=process.extract(i, myset)\n",
        "     print(\"The nearest phonetic matches are: \")\n",
        "     print(a)\n",
        "     b=difflib.get_close_matches(i, myset)\n",
        "     print(\"The nearest spelling matches are: \")\n",
        "     print(b)\n",
        "     word = input(\"Enter the word to be replaced: \")\n",
        "     test[ct]=word\n",
        "     print(\"The modified word list :\",test)\n",
        "  ct=ct+1\n",
        "test_json=' '.join(test)\n",
        "print(\"String to be input to the model: \",test_json)"
      ],
      "metadata": {
        "colab": {
          "base_uri": "https://localhost:8080/"
        },
        "id": "DfAJ5Y9pk0nb",
        "outputId": "e0e7cf41-7f65-48cc-c242-51b105d7ab3b"
      },
      "id": "DfAJ5Y9pk0nb",
      "execution_count": null,
      "outputs": [
        {
          "output_type": "stream",
          "name": "stdout",
          "text": [
            "' candi '  string is not present in the database\n",
            "The nearest phonetic matches are: \n",
            "[('candidates', 90), ('can', 90), ('and', 90), ('an', 90), ('candidate', 90)]\n",
            "The nearest spelling matches are: \n",
            "['can', 'and', 'candidate']\n",
            "Enter the word to be replaced: candidate\n",
            "The modified word list : ['candidate', 'firstt', 'nam']\n",
            "' firstt '  string is not present in the database\n",
            "The nearest phonetic matches are: \n",
            "[('first', 91), ('s', 90), ('r', 90), ('f', 90), ('t', 90)]\n",
            "The nearest spelling matches are: \n",
            "['first', 'firms', 'firstame']\n",
            "Enter the word to be replaced: first\n",
            "The modified word list : ['candidate', 'first', 'nam']\n",
            "String to be input to the model:  candidate first nam\n"
          ]
        }
      ]
    },
    {
      "cell_type": "code",
      "source": [],
      "metadata": {
        "id": "oVBz5yGEsG1s"
      },
      "id": "oVBz5yGEsG1s",
      "execution_count": null,
      "outputs": []
    },
    {
      "cell_type": "code",
      "source": [
        "#join the words in the list\n",
        "test_json=' '.join(test)\n",
        "print(test_json)\n"
      ],
      "metadata": {
        "colab": {
          "base_uri": "https://localhost:8080/"
        },
        "id": "h-ABxxYbr1-i",
        "outputId": "d4b3fab3-e5dd-4e7b-dd02-84a9b8aeee9d"
      },
      "id": "h-ABxxYbr1-i",
      "execution_count": null,
      "outputs": [
        {
          "output_type": "stream",
          "name": "stdout",
          "text": [
            "candidate first nam\n"
          ]
        }
      ]
    },
    {
      "cell_type": "code",
      "source": [
        "import difflib\n",
        "difflib.get_close_matches('teh', myset)"
      ],
      "metadata": {
        "colab": {
          "base_uri": "https://localhost:8080/"
        },
        "id": "dwqg66m2qXOb",
        "outputId": "edf243da-2b7e-492d-ccad-e57b04756c4f"
      },
      "id": "dwqg66m2qXOb",
      "execution_count": null,
      "outputs": [
        {
          "output_type": "execute_result",
          "data": {
            "text/plain": [
              "['ten', 'tea', 'ste']"
            ]
          },
          "metadata": {},
          "execution_count": 46
        }
      ]
    },
    {
      "cell_type": "code",
      "source": [
        "difflib.get_close_matches('teh', ['the', 'they', 'thee'])"
      ],
      "metadata": {
        "id": "YgXGwwPPvDbB",
        "colab": {
          "base_uri": "https://localhost:8080/"
        },
        "outputId": "28386f89-27c6-48cf-aac4-32a774c52cd0"
      },
      "id": "YgXGwwPPvDbB",
      "execution_count": null,
      "outputs": [
        {
          "output_type": "execute_result",
          "data": {
            "text/plain": [
              "['the']"
            ]
          },
          "metadata": {},
          "execution_count": 47
        }
      ]
    },
    {
      "cell_type": "code",
      "source": [
        "#Phonetic Matching\n",
        "!pip3 install fuzzywuzzy"
      ],
      "metadata": {
        "colab": {
          "base_uri": "https://localhost:8080/"
        },
        "id": "kCt-y8bhiYL2",
        "outputId": "b8b6621f-654a-4a95-b404-ee5031259312"
      },
      "id": "kCt-y8bhiYL2",
      "execution_count": null,
      "outputs": [
        {
          "output_type": "stream",
          "name": "stdout",
          "text": [
            "Looking in indexes: https://pypi.org/simple, https://us-python.pkg.dev/colab-wheels/public/simple/\n",
            "Collecting fuzzywuzzy\n",
            "  Downloading fuzzywuzzy-0.18.0-py2.py3-none-any.whl (18 kB)\n",
            "Installing collected packages: fuzzywuzzy\n",
            "Successfully installed fuzzywuzzy-0.18.0\n"
          ]
        }
      ]
    },
    {
      "cell_type": "code",
      "source": [
        "from fuzzywuzzy import fuzz\n",
        "from fuzzywuzzy import process"
      ],
      "metadata": {
        "colab": {
          "base_uri": "https://localhost:8080/"
        },
        "id": "tOgEMLNfian5",
        "outputId": "291f798a-75f5-49dc-e485-4eca44c3f5c6"
      },
      "id": "tOgEMLNfian5",
      "execution_count": null,
      "outputs": [
        {
          "output_type": "stream",
          "name": "stderr",
          "text": [
            "/usr/local/lib/python3.7/dist-packages/fuzzywuzzy/fuzz.py:11: UserWarning: Using slow pure-python SequenceMatcher. Install python-Levenshtein to remove this warning\n",
            "  warnings.warn('Using slow pure-python SequenceMatcher. Install python-Levenshtein to remove this warning')\n"
          ]
        }
      ]
    },
    {
      "cell_type": "code",
      "source": [
        "process.extract('pers', myset)"
      ],
      "metadata": {
        "colab": {
          "base_uri": "https://localhost:8080/"
        },
        "id": "7Kdxytv_ifEf",
        "outputId": "88ddb142-3430-4555-aa08-416de79a85ff"
      },
      "id": "7Kdxytv_ifEf",
      "execution_count": null,
      "outputs": [
        {
          "output_type": "execute_result",
          "data": {
            "text/plain": [
              "[('last_updated_by_person_id', 90),\n",
              " ('persons', 90),\n",
              " ('working_key_persisted', 90),\n",
              " ('superseding_space_booking_id', 90),\n",
              " ('on_behalf_of_person_id', 90)]"
            ]
          },
          "metadata": {},
          "execution_count": 44
        }
      ]
    },
    {
      "cell_type": "code",
      "source": [
        "print (\"Best among the above list: \",process.extractOne('employable', myset))"
      ],
      "metadata": {
        "id": "xR9wklj1pW3M"
      },
      "id": "xR9wklj1pW3M",
      "execution_count": null,
      "outputs": []
    },
    {
      "cell_type": "code",
      "execution_count": null,
      "id": "89a4d985",
      "metadata": {
        "id": "89a4d985"
      },
      "outputs": [],
      "source": [
        "from transformers import BertTokenizer\n",
        "tz = BertTokenizer.from_pretrained(\"bert-base-cased\")"
      ]
    },
    {
      "cell_type": "code",
      "execution_count": null,
      "id": "f903c284",
      "metadata": {
        "id": "f903c284"
      },
      "outputs": [],
      "source": [
        "def bert_transform(sent):\n",
        "    encoded = tz.encode_plus(\n",
        "    text=sent,  # the sentence to be encoded\n",
        "    add_special_tokens=True,  # Add [CLS] and [SEP]\n",
        "    max_length = 64,  # maximum length of a sentence\n",
        "    pad_to_max_length=True,  # Add [PAD]s\n",
        "    return_attention_mask = True,  # Generate the attention mask\n",
        "    return_tensors = 'pt',  # ask the function to return PyTorch tensors\n",
        "    )\n",
        "    input_ids = encoded['input_ids']\n",
        "    return input_ids"
      ]
    },
    {
      "cell_type": "code",
      "execution_count": null,
      "id": "2656f635",
      "metadata": {
        "id": "2656f635"
      },
      "outputs": [],
      "source": [
        "PRE_TRAINED_MODEL_NAME = 'bert-base-cased'\n",
        "tokenizer = BertTokenizer.from_pretrained(PRE_TRAINED_MODEL_NAME)\n",
        "sample_txt = 'demon appears in the crossroads'\n",
        "\n",
        "tokens = tokenizer.tokenize(sample_txt)\n",
        "token_ids = tokenizer.convert_tokens_to_ids(tokens)\n",
        "print(f' Sentence: {sample_txt}')\n",
        "print(f'   Tokens: {tokens}')\n",
        "print(f'Token IDs: {token_ids}')"
      ]
    },
    {
      "cell_type": "code",
      "execution_count": null,
      "id": "0fbc5861",
      "metadata": {
        "scrolled": true,
        "id": "0fbc5861"
      },
      "outputs": [],
      "source": [
        "print(bert_transform('demon appears in the crossroads'))"
      ]
    },
    {
      "cell_type": "code",
      "execution_count": null,
      "id": "b607c8f6",
      "metadata": {
        "id": "b607c8f6"
      },
      "outputs": [],
      "source": [
        "tz.tokenize('demon appears in the crossroads')"
      ]
    },
    {
      "cell_type": "code",
      "execution_count": null,
      "id": "5c7fa1ef",
      "metadata": {
        "id": "5c7fa1ef"
      },
      "outputs": [],
      "source": [
        "var=bert_transform('The demon appears in the crossroads')\n",
        "var=var.tolist()\n",
        "var"
      ]
    }
  ],
  "metadata": {
    "kernelspec": {
      "display_name": "Python 3 (ipykernel)",
      "language": "python",
      "name": "python3"
    },
    "language_info": {
      "codemirror_mode": {
        "name": "ipython",
        "version": 3
      },
      "file_extension": ".py",
      "mimetype": "text/x-python",
      "name": "python",
      "nbconvert_exporter": "python",
      "pygments_lexer": "ipython3",
      "version": "3.8.8"
    },
    "colab": {
      "provenance": []
    }
  },
  "nbformat": 4,
  "nbformat_minor": 5
}